{
  "nbformat": 4,
  "nbformat_minor": 0,
  "metadata": {
    "colab": {
      "provenance": [],
      "authorship_tag": "ABX9TyPIXEDMdJCDTrqF0Bul+4mP",
      "include_colab_link": true
    },
    "kernelspec": {
      "name": "python3",
      "display_name": "Python 3"
    },
    "language_info": {
      "name": "python"
    }
  },
  "cells": [
    {
      "cell_type": "markdown",
      "metadata": {
        "id": "view-in-github",
        "colab_type": "text"
      },
      "source": [
        "<a href=\"https://colab.research.google.com/github/Purugru/Chad-Bod/blob/main/chadbod.ipynb\" target=\"_parent\"><img src=\"https://colab.research.google.com/assets/colab-badge.svg\" alt=\"Open In Colab\"/></a>"
      ]
    },
    {
      "cell_type": "code",
      "execution_count": 1,
      "metadata": {
        "id": "5DgNhh0vPjJz"
      },
      "outputs": [],
      "source": [
        "import numpy as np\n",
        "import nltk\n",
        "import string\n",
        "import random"
      ]
    },
    {
      "cell_type": "markdown",
      "source": [
        "Import and reading Corpus"
      ],
      "metadata": {
        "id": "Metvv3Y0X1dh"
      }
    },
    {
      "cell_type": "code",
      "source": [
        "f = open('chadbod.txt', 'r', errors = 'ignore')\n",
        "raw_doc=f.read()\n",
        "raw_doc = raw_doc.lower()\n",
        "nltk.download('punkt')\n",
        "nltk.download('wordnet')\n",
        "sent_tokens = nltk.sent_tokenize(raw_doc)\n",
        "word_tokens = nltk.word_tokenize(raw_doc)"
      ],
      "metadata": {
        "colab": {
          "base_uri": "https://localhost:8080/"
        },
        "id": "98kmvUPzYGGD",
        "outputId": "3333af88-a6f3-4165-e99b-682ebe9c2b06"
      },
      "execution_count": 4,
      "outputs": [
        {
          "output_type": "stream",
          "name": "stderr",
          "text": [
            "[nltk_data] Downloading package punkt to /root/nltk_data...\n",
            "[nltk_data]   Package punkt is already up-to-date!\n",
            "[nltk_data] Downloading package wordnet to /root/nltk_data...\n",
            "[nltk_data]   Package wordnet is already up-to-date!\n"
          ]
        }
      ]
    },
    {
      "cell_type": "markdown",
      "source": [
        "eg sentance token"
      ],
      "metadata": {
        "id": "Piy5oIPAarWH"
      }
    },
    {
      "cell_type": "code",
      "source": [
        "sent_tokens[:2]"
      ],
      "metadata": {
        "colab": {
          "base_uri": "https://localhost:8080/"
        },
        "id": "mEd5Pg-jatr-",
        "outputId": "8ab4d1e0-b41a-4401-a46d-e91d6492b825"
      },
      "execution_count": 5,
      "outputs": [
        {
          "output_type": "execute_result",
          "data": {
            "text/plain": [
              "['manhattan project\\n\\narticle\\ntalk\\nread\\nview source\\nview history\\n\\ntools\\nfeatured article\\npage semi-protected\\nfrom wikipedia, the free encyclopedia\\nthis article is about the atomic bomb project.',\n",
              " 'for other uses, see manhattan project (disambiguation).']"
            ]
          },
          "metadata": {},
          "execution_count": 5
        }
      ]
    },
    {
      "cell_type": "markdown",
      "source": [
        "eg word token"
      ],
      "metadata": {
        "id": "UA9C3Ax0a8cO"
      }
    },
    {
      "cell_type": "code",
      "source": [
        "word_tokens[:2]"
      ],
      "metadata": {
        "colab": {
          "base_uri": "https://localhost:8080/"
        },
        "id": "MMoC37A1blxG",
        "outputId": "a2bca245-decd-4608-995b-5be8261b7a3d"
      },
      "execution_count": 6,
      "outputs": [
        {
          "output_type": "execute_result",
          "data": {
            "text/plain": [
              "['manhattan', 'project']"
            ]
          },
          "metadata": {},
          "execution_count": 6
        }
      ]
    },
    {
      "cell_type": "markdown",
      "source": [
        "Text Preprocessing"
      ],
      "metadata": {
        "id": "GgvVipj8bsUV"
      }
    },
    {
      "cell_type": "code",
      "source": [
        "lemmer = nltk.stem.WordNetLemmatizer()\n",
        "def LemTokens(tokens):\n",
        "  return [lemmer.lemmatize(token)for token in tokens]\n",
        "remove_punct_dict = dict((ord(punct), None) for punct in string.punctuation)\n",
        "def LemNormalize(text):\n",
        "  return LemTokens(nltk.word_tokenize(text.lower().translate(remove_punct_dict)))"
      ],
      "metadata": {
        "id": "E1Z5lkLVbu_U"
      },
      "execution_count": 9,
      "outputs": []
    },
    {
      "cell_type": "markdown",
      "source": [
        "Defining Greeting fn\n",
        "\n"
      ],
      "metadata": {
        "id": "67bBrY59cyAI"
      }
    },
    {
      "cell_type": "code",
      "source": [
        "GREET_INPUTS = (\"hello\", \"hi\", \"greetings\", \"sup\", \"yo\", \"hey\")\n",
        "GREET_RESPONSES = [\"hi\", \"hey\", \"nods\", \"hi there\", \"hello\", \"I am glad to talk with you\"]\n",
        "def greet(sentence):\n",
        "\n",
        "  for word in sentence.split():\n",
        "    if word.lower() in GREET_INPUTS:\n",
        "      return random.choice(GREET_RESPONSES)"
      ],
      "metadata": {
        "id": "VWxo7rAic4RR"
      },
      "execution_count": 12,
      "outputs": []
    },
    {
      "cell_type": "markdown",
      "source": [
        "Response Generation"
      ],
      "metadata": {
        "id": "-wpvEEW0eueh"
      }
    },
    {
      "cell_type": "code",
      "source": [
        "from sklearn.feature_extraction.text import TfidfVectorizer\n",
        "from sklearn.metrics.pairwise import cosine_similarity"
      ],
      "metadata": {
        "id": "VfYZRCyidtmW"
      },
      "execution_count": 14,
      "outputs": []
    },
    {
      "cell_type": "code",
      "source": [
        "from tokenize import tokenize\n",
        "def response(user_response):\n",
        "  robo1_response=''\n",
        "  TfidVec = TfidfVectorizer(tokenizer=LemNormalize, stop_words='english')\n",
        "  tfidf = TfidVec.fit_transform(sent_tokens)\n",
        "  vals = cosine_similarity(tfidf[-1],tfidf)\n",
        "  idx = vals.argsort()[0][-2]\n",
        "  flat = vals.flatten()\n",
        "  flat.sort()\n",
        "  req_tfidf = flat[-2]\n",
        "  if(req_tfidf == 0):\n",
        "    robo1_response = robo1_response+\"I am sorry! I don't understand you\"\n",
        "  else:\n",
        "    robo1_response = robo1_response+ sent_tokens[idx]\n",
        "    return robo1_response"
      ],
      "metadata": {
        "id": "QSY1AT4De_wy"
      },
      "execution_count": 27,
      "outputs": []
    },
    {
      "cell_type": "markdown",
      "source": [
        "Defining conversation"
      ],
      "metadata": {
        "id": "iNMmZK_ahSBs"
      }
    },
    {
      "cell_type": "code",
      "source": [],
      "metadata": {
        "id": "U0noWy1LmKTd"
      },
      "execution_count": null,
      "outputs": []
    },
    {
      "cell_type": "code",
      "source": [
        "flag = True\n",
        "print(\"ChadBod: My name is WINTON. Let's have a convo also if you want to exit anytime, just type \"\"Bye\"\"! \")\n",
        "while(flag==True):\n",
        "  user_response = input()\n",
        "  user_response = user_response.lower()\n",
        "  if(user_response!='bye'):\n",
        "    if(user_response=='thanks'or user_response=='thank you'):\n",
        "      flag = False\n",
        "      print(\"ChadBod: You are welcome..\")\n",
        "    else:\n",
        "      if(greet(user_response)!=None):\n",
        "        print(\"ChadBod: \"+greet(user_response))\n",
        "      else:\n",
        "          sent_tokens.append(user_response)\n",
        "          word_tokens = word_tokens+nltk.word_tokenize(user_response)\n",
        "          final_words = list(set(word_tokens))\n",
        "          print(\"ChadBod: \", end=\"\")\n",
        "          print(response(user_response))\n",
        "          sent_tokens.remove(user_response)\n",
        "  else:\n",
        "      flag= False\n",
        "      print(\"ChadBod: Goodbye! Happy Lifting\")"
      ],
      "metadata": {
        "colab": {
          "base_uri": "https://localhost:8080/"
        },
        "id": "r9zXDCRIhb_k",
        "outputId": "5f965f06-be49-4291-a3e8-28fdf96a5883"
      },
      "execution_count": 28,
      "outputs": [
        {
          "output_type": "stream",
          "name": "stdout",
          "text": [
            "ChadBod: My name is WINTON. Let's have a convo also if you want to exit anytime, just type Bye! \n",
            "Boom\n",
            "ChadBod: "
          ]
        },
        {
          "output_type": "stream",
          "name": "stderr",
          "text": [
            "/usr/local/lib/python3.10/dist-packages/sklearn/feature_extraction/text.py:528: UserWarning: The parameter 'token_pattern' will not be used since 'tokenizer' is not None'\n",
            "  warnings.warn(\n",
            "/usr/local/lib/python3.10/dist-packages/sklearn/feature_extraction/text.py:409: UserWarning: Your stop_words may be inconsistent with your preprocessing. Tokenizing the stop words generated tokens ['ha', 'le', 'u', 'wa'] not in stop_words.\n",
            "  warnings.warn(\n"
          ]
        },
        {
          "output_type": "stream",
          "name": "stdout",
          "text": [
            "None\n",
            "Atomic Bomb\n",
            "ChadBod: bomb\n",
            "Robert\n",
            "ChadBod: nuclear physicist j. robert oppenheimer was the director of the los alamos laboratory that designed the bombs.\n",
            "Manhatten\n",
            "ChadBod: None\n",
            "Manhattan\n",
            "ChadBod: \"why they called it the manhattan project\".\n",
            "Soviet\n",
            "ChadBod: [140]\n",
            "\n",
            "research into the centrifuge method advanced significantly after the war with the introduction of the zippe-type centrifuge, which was developed in the soviet union by soviet and captured german engineers.\n",
            "Nazi\n",
            "ChadBod: there were fears that a german atomic bomb project would develop one first, especially among scientists who were refugees from nazi germany and other fascist countries.\n",
            "Thankyou\n",
            "ChadBod: None\n",
            "Bye\n",
            "ChadBod: Goodbye! Happy Lifting\n"
          ]
        }
      ]
    },
    {
      "cell_type": "code",
      "source": [],
      "metadata": {
        "id": "TcJ2bw5MiG1s"
      },
      "execution_count": 27,
      "outputs": []
    }
  ]
}